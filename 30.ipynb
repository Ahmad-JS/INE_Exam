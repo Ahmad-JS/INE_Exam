{
 "cells": [
  {
   "cell_type": "markdown",
   "metadata": {},
   "source": [
    "# <a id='q30'>Question 30: What is the probability of randomly choosing two people (without replacement) who are both female?</a>\n"
   ]
  },
  {
   "cell_type": "markdown",
   "metadata": {},
   "source": [
    "## Setup\n",
    "\n",
    "Run this cell first to import all of packages necessary for the questions"
   ]
  },
  {
   "cell_type": "code",
   "execution_count": 2,
   "metadata": {},
   "outputs": [],
   "source": [
    "import numpy as np\n",
    "import pandas as pd\n",
    "import matplotlib.pyplot as plt\n",
    "from datetime import datetime, date \n",
    "\n",
    "from sklearn.neighbors import KNeighborsClassifier \n",
    "from sklearn.metrics import accuracy_score\n",
    "from sklearn.model_selection import train_test_split, RandomizedSearchCV\n",
    "from sklearn.linear_model import LogisticRegression \n",
    "from sklearn.svm import SVC\n",
    "from sklearn import tree"
   ]
  },
  {
   "cell_type": "markdown",
   "metadata": {},
   "source": [
    "## Exercise:Using the `onlinefoods` dataset, if we wanted to randomly choose two people <b>without</b> replacements, what is the probability of both people being female? \n",
    "\n",
    "Round to the nearest 2 digits and store the probability in `prob_two_females`."
   ]
  },
  {
   "cell_type": "code",
   "execution_count": 7,
   "metadata": {},
   "outputs": [],
   "source": [
    "import pandas as pd\n",
    "\n",
    "# Load dataset\n",
    "foods = pd.read_csv('data/onlinefoods.csv')\n",
    "\n",
    "# Drop rows with missing Gender values\n",
    "foods = foods.dropna(subset=['Gender'])\n",
    "\n",
    "# Total number of people\n",
    "total = len(foods)\n",
    "\n",
    "# Number of females\n",
    "num_females = len(foods[foods['Gender'] == 'Female'])\n",
    "\n",
    "# Calculate the probability without replacement\n",
    "prob_two_females = (num_females / total) * ((num_females - 1) / (total - 1))\n",
    "\n",
    "# Round to 2 decimal places\n",
    "prob_two_females = round(prob_two_females, 2)\n"
   ]
  },
  {
   "cell_type": "markdown",
   "metadata": {},
   "source": [
    "Execute the following code to answer the question"
   ]
  },
  {
   "cell_type": "code",
   "execution_count": 8,
   "metadata": {},
   "outputs": [
    {
     "name": "stdout",
     "output_type": "stream",
     "text": [
      "0.18\n"
     ]
    }
   ],
   "source": [
    "print(prob_two_females)"
   ]
  },
  {
   "cell_type": "markdown",
   "metadata": {},
   "source": [
    "Return to the exam and paste the result into the answer text box for this question. Be sure that you are pasting it into the answer for **Question 30: What is the probability of randomly choosing two people (without replacement) who are both female?**. "
   ]
  },
  {
   "cell_type": "markdown",
   "metadata": {},
   "source": [
    "[previous question](29.ipynb#q29) | [return to question list](00-questionlist.ipynb#questions) | [next question](31.ipynb#q31)"
   ]
  }
 ],
 "metadata": {
  "kernelspec": {
   "display_name": "Python 3 (ipykernel)",
   "language": "python",
   "name": "python3"
  },
  "language_info": {
   "codemirror_mode": {
    "name": "ipython",
    "version": 3
   },
   "file_extension": ".py",
   "mimetype": "text/x-python",
   "name": "python",
   "nbconvert_exporter": "python",
   "pygments_lexer": "ipython3",
   "version": "3.11.9"
  }
 },
 "nbformat": 4,
 "nbformat_minor": 4
}
