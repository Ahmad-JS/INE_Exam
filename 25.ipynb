{
 "cells": [
  {
   "cell_type": "markdown",
   "metadata": {},
   "source": [
    "# <a id='q25'>Question 25: What is the index for the customer with \"No Income\" listed for monthly income?</a>\n"
   ]
  },
  {
   "cell_type": "markdown",
   "metadata": {},
   "source": [
    "## Setup\n",
    "\n",
    "Run this cell first to import all of packages necessary for the questions"
   ]
  },
  {
   "cell_type": "code",
   "execution_count": 3,
   "metadata": {},
   "outputs": [],
   "source": [
    "import numpy as np\n",
    "import pandas as pd\n",
    "import matplotlib.pyplot as plt\n",
    "from datetime import datetime, date \n",
    "\n",
    "from sklearn.neighbors import KNeighborsClassifier \n",
    "from sklearn.metrics import accuracy_score\n",
    "from sklearn.model_selection import train_test_split, RandomizedSearchCV\n",
    "from sklearn.linear_model import LogisticRegression \n",
    "from sklearn.svm import SVC\n",
    "from sklearn import tree"
   ]
  },
  {
   "cell_type": "markdown",
   "metadata": {},
   "source": [
    "## Exercise:\n",
    "Create a function `csv_last_rows` with two parameters, `df` that contains the dataframe and `num` the number of rows to be returned.\n",
    "\n",
    "Return the last `num` rows of `df`."
   ]
  },
  {
   "cell_type": "code",
   "execution_count": 4,
   "metadata": {},
   "outputs": [],
   "source": [
    "def csv_last_rows(df, num):\n",
    "    # Add your code here\n",
    "    return df.tail(num)"
   ]
  },
  {
   "cell_type": "markdown",
   "metadata": {},
   "source": [
    "Execute the following code to answer the question."
   ]
  },
  {
   "cell_type": "code",
   "execution_count": 5,
   "metadata": {},
   "outputs": [
    {
     "name": "stdout",
     "output_type": "stream",
     "text": [
      "     Age Gender Marital Status Occupation  Monthly Income  \\\n",
      "386   23   Male         Single    Student  Below Rs.10000   \n",
      "387   23   Male         Single    Student       No Income   \n",
      "\n",
      "    Educational Qualifications  Family size  latitude  longitude  Pin code  \\\n",
      "386              Post Graduate            2   12.9770    77.5773    560009   \n",
      "387              Post Graduate            5   12.8988    77.5764    560078   \n",
      "\n",
      "    Output  Feedback Unnamed: 12  \n",
      "386    Yes  Positive         Yes  \n",
      "387    Yes  Positive         Yes  \n"
     ]
    }
   ],
   "source": [
    "properties = pd.read_csv('data/onlinefoods.csv')\n",
    "print(csv_last_rows(properties, 2))"
   ]
  },
  {
   "cell_type": "markdown",
   "metadata": {},
   "source": [
    "Return to the exam and paste the result into the answer text box for this question. Be sure that you are pasting it into the answer for **Question 25: What is the index for the customer with \"No Income\" listed for monthly income?**. "
   ]
  },
  {
   "cell_type": "markdown",
   "metadata": {},
   "source": [
    "[previous question](24.ipynb#q24) | [return to question list](00-questionlist.ipynb#questions) | [next question](26.ipynb#q26)"
   ]
  }
 ],
 "metadata": {
  "kernelspec": {
   "display_name": "Python 3 (ipykernel)",
   "language": "python",
   "name": "python3"
  },
  "language_info": {
   "codemirror_mode": {
    "name": "ipython",
    "version": 3
   },
   "file_extension": ".py",
   "mimetype": "text/x-python",
   "name": "python",
   "nbconvert_exporter": "python",
   "pygments_lexer": "ipython3",
   "version": "3.11.9"
  }
 },
 "nbformat": 4,
 "nbformat_minor": 4
}
