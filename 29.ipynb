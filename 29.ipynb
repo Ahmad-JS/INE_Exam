{
 "cells": [
  {
   "cell_type": "markdown",
   "metadata": {},
   "source": [
    "# <a id='q29'>Question 29: What is the theoretical probability to pick a Male who is also Single?</a>\n"
   ]
  },
  {
   "cell_type": "markdown",
   "metadata": {},
   "source": [
    "## Setup\n",
    "\n",
    "Run this cell first to import all of packages necessary for the questions"
   ]
  },
  {
   "cell_type": "code",
   "execution_count": 1,
   "metadata": {},
   "outputs": [],
   "source": [
    "import numpy as np\n",
    "import pandas as pd\n",
    "import matplotlib.pyplot as plt\n",
    "from datetime import datetime, date \n",
    "\n",
    "from sklearn.neighbors import KNeighborsClassifier \n",
    "from sklearn.metrics import accuracy_score\n",
    "from sklearn.model_selection import train_test_split, RandomizedSearchCV\n",
    "from sklearn.linear_model import LogisticRegression \n",
    "from sklearn.svm import SVC\n",
    "from sklearn import tree"
   ]
  },
  {
   "cell_type": "markdown",
   "metadata": {},
   "source": [
    "## Exercise:Using the dataframe `onlinefoods` run an experiment to determine what the theoretical probability is to pick a Male who is also Single.\n",
    "\n",
    "Return the probability to 2 decimal places"
   ]
  },
  {
   "cell_type": "code",
   "execution_count": 2,
   "metadata": {},
   "outputs": [
    {
     "name": "stdout",
     "output_type": "stream",
     "text": [
      "0.4\n"
     ]
    }
   ],
   "source": [
    "import pandas as pd\n",
    "\n",
    "foods = pd.read_csv('data/onlinefoods.csv')\n",
    "\n",
    "def calc_theoretical_prob():\n",
    "    clean_data = foods.dropna(subset=['Gender', 'Marital Status'])\n",
    "    \n",
    "    male_single = clean_data[(clean_data['Gender'] == 'Male') & (clean_data['Marital Status'] == 'Single')]\n",
    "    \n",
    "    probability = len(male_single) / len(clean_data)\n",
    "    \n",
    "    return round(probability, 2)\n",
    "\n",
    "print(calc_theoretical_prob())\n"
   ]
  },
  {
   "cell_type": "markdown",
   "metadata": {},
   "source": [
    "Execute the following code to answer the question."
   ]
  },
  {
   "cell_type": "code",
   "execution_count": 3,
   "metadata": {},
   "outputs": [
    {
     "data": {
      "text/plain": [
       "0.4"
      ]
     },
     "execution_count": 3,
     "metadata": {},
     "output_type": "execute_result"
    }
   ],
   "source": [
    "calc_theoretical_prob()"
   ]
  },
  {
   "cell_type": "markdown",
   "metadata": {},
   "source": [
    "Return to the exam and paste the result into the answer text box for this question. Be sure that you are pasting it into the answer for **Question 29: What is the theoretical probability to pick a Male who is also Single?**. "
   ]
  },
  {
   "cell_type": "markdown",
   "metadata": {},
   "source": [
    "[previous question](28.ipynb#q28) | [return to question list](00-questionlist.ipynb#questions) | [next question](30.ipynb#q30)"
   ]
  }
 ],
 "metadata": {
  "kernelspec": {
   "display_name": "Python 3 (ipykernel)",
   "language": "python",
   "name": "python3"
  },
  "language_info": {
   "codemirror_mode": {
    "name": "ipython",
    "version": 3
   },
   "file_extension": ".py",
   "mimetype": "text/x-python",
   "name": "python",
   "nbconvert_exporter": "python",
   "pygments_lexer": "ipython3",
   "version": "3.11.9"
  }
 },
 "nbformat": 4,
 "nbformat_minor": 4
}
