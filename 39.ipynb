{
 "cells": [
  {
   "cell_type": "markdown",
   "metadata": {},
   "source": [
    "# <a id='q39'>Question 39: What is the best value for 'min_samples_leaf'?</a>\n"
   ]
  },
  {
   "cell_type": "markdown",
   "metadata": {},
   "source": [
    "## Setup\n",
    "\n",
    "Run this cell first to import all of packages necessary for the questions"
   ]
  },
  {
   "cell_type": "code",
   "execution_count": 2,
   "metadata": {},
   "outputs": [],
   "source": [
    "import numpy as np\n",
    "import pandas as pd\n",
    "import matplotlib.pyplot as plt\n",
    "from datetime import datetime, date \n",
    "\n",
    "from sklearn.neighbors import KNeighborsClassifier \n",
    "from sklearn.metrics import accuracy_score\n",
    "from sklearn.model_selection import train_test_split, RandomizedSearchCV\n",
    "from sklearn.linear_model import LogisticRegression \n",
    "from sklearn.svm import SVC\n",
    "from sklearn import tree"
   ]
  },
  {
   "cell_type": "markdown",
   "metadata": {},
   "source": [
    "## Exercise:Using RandomizedSearchCV, find the best hyperparameters for a decision tree classifier that predicts whether an individual in the `incomes` dataframe earns more or less than $50,000, `y` using features `X`. \n",
    "\n",
    "Use the Gini impurity function for the Decision Tree Classifier, use 5-fold cross validation, and set the random state to 1.\n",
    "\n",
    "Search the following parameters: \n",
    "* Max depth: 3, 5, 7 and None\n",
    "* Max features: Integer between 1 and 4\n",
    "* Min samples per leaf: Integer between 1 and 9\n",
    "\n",
    "Store the best parameters to `best_hps`."
   ]
  },
  {
   "cell_type": "code",
   "execution_count": 4,
   "metadata": {},
   "outputs": [
    {
     "data": {
      "text/plain": [
       "{'min_samples_leaf': 4, 'max_features': 2, 'max_depth': 7}"
      ]
     },
     "execution_count": 4,
     "metadata": {},
     "output_type": "execute_result"
    }
   ],
   "source": [
    "from sklearn.model_selection import train_test_split, RandomizedSearchCV\n",
    "from sklearn.tree import DecisionTreeClassifier\n",
    "import pandas as pd\n",
    "\n",
    "# Load dataset\n",
    "incomes = pd.read_csv('data/incomes1.csv')\n",
    "\n",
    "# Prepare features and target\n",
    "X = incomes.drop(columns={\"income\"}, axis=1)\n",
    "y = incomes[\"income\"].values.reshape(-1, 1)\n",
    "X_train, X_test, y_train, y_test = train_test_split(X, y, test_size=0.1, random_state=1)\n",
    "y_train = y_train.ravel()\n",
    "\n",
    "# Define parameter grid\n",
    "param_dist = {\n",
    "    'max_depth': [3, 5, 7, None],\n",
    "    'max_features': [1, 2, 3, 4],\n",
    "    'min_samples_leaf': list(range(1, 10))\n",
    "}\n",
    "\n",
    "# Set up model and search\n",
    "dtree = DecisionTreeClassifier(criterion='gini', random_state=1)\n",
    "random_search = RandomizedSearchCV(dtree, param_distributions=param_dist, n_iter=10, cv=5, random_state=1)\n",
    "random_search.fit(X_train, y_train)\n",
    "\n",
    "# Get best hyperparameters\n",
    "best_hps = random_search.best_params_\n",
    "best_hps\n"
   ]
  },
  {
   "cell_type": "markdown",
   "metadata": {},
   "source": [
    "Execute the following code to answer the question"
   ]
  },
  {
   "cell_type": "code",
   "execution_count": 5,
   "metadata": {},
   "outputs": [
    {
     "name": "stdout",
     "output_type": "stream",
     "text": [
      "4\n"
     ]
    }
   ],
   "source": [
    "print(best_hps['min_samples_leaf'])"
   ]
  },
  {
   "cell_type": "markdown",
   "metadata": {},
   "source": [
    "Return to the exam and paste the result into the answer text box for this question. Be sure that you are pasting it into the answer for **Question 39: What is the best value for 'min_samples_leaf'?**. "
   ]
  },
  {
   "cell_type": "markdown",
   "metadata": {},
   "source": [
    "[previous question](38.ipynb#q38) | [return to question list](00-questionlist.ipynb#questions) | [next question](40.ipynb#q40)"
   ]
  }
 ],
 "metadata": {
  "kernelspec": {
   "display_name": "Python 3 (ipykernel)",
   "language": "python",
   "name": "python3"
  },
  "language_info": {
   "codemirror_mode": {
    "name": "ipython",
    "version": 3
   },
   "file_extension": ".py",
   "mimetype": "text/x-python",
   "name": "python",
   "nbconvert_exporter": "python",
   "pygments_lexer": "ipython3",
   "version": "3.11.9"
  }
 },
 "nbformat": 4,
 "nbformat_minor": 4
}
