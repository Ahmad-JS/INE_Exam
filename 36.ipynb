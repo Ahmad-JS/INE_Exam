{
 "cells": [
  {
   "cell_type": "markdown",
   "metadata": {},
   "source": [
    "# <a id='q36'>Question 36: What is the SVC model's score? </a>\n"
   ]
  },
  {
   "cell_type": "markdown",
   "metadata": {},
   "source": [
    "## Setup\n",
    "\n",
    "Run this cell first to import all of packages necessary for the questions"
   ]
  },
  {
   "cell_type": "code",
   "execution_count": 6,
   "metadata": {},
   "outputs": [],
   "source": [
    "import numpy as np\n",
    "import pandas as pd\n",
    "import matplotlib.pyplot as plt\n",
    "from datetime import datetime, date \n",
    "\n",
    "from sklearn.neighbors import KNeighborsClassifier \n",
    "from sklearn.metrics import accuracy_score\n",
    "from sklearn.model_selection import train_test_split, RandomizedSearchCV\n",
    "from sklearn.linear_model import LogisticRegression \n",
    "from sklearn.svm import SVC\n",
    "from sklearn import tree"
   ]
  },
  {
   "cell_type": "markdown",
   "metadata": {},
   "source": [
    "## Exercise:Create a Support Vector Machine (C-Support Vector Classification, or SVC) classification model that predicts whether an individual earns more than 50,000 dollars, `y`, using features `X` for the `incomes` dataset. \n",
    "\n",
    "Set the max number of iterations to 15000.\n",
    "\n",
    "Once the model has been run on the test data, assign the `score` of the model to `svm_acc`, rounded to 2 decimals."
   ]
  },
  {
   "cell_type": "code",
   "execution_count": 4,
   "metadata": {},
   "outputs": [
    {
     "data": {
      "text/plain": [
       "0.75"
      ]
     },
     "execution_count": 4,
     "metadata": {},
     "output_type": "execute_result"
    }
   ],
   "source": [
    "from sklearn.svm import SVC\n",
    "from sklearn.metrics import accuracy_score\n",
    "\n",
    "# Load dataset again (already available from previous step)\n",
    "incomes = pd.read_csv('data/incomes1.csv')\n",
    "\n",
    "# Prepare features and target\n",
    "X = incomes.drop(columns={\"income\"})\n",
    "y = incomes[\"income\"].values.reshape(-1, 1)\n",
    "\n",
    "# Split data\n",
    "X_train, X_test, y_train, y_test = train_test_split(X, y, test_size=0.1, random_state=1)\n",
    "y_train = y_train.ravel()\n",
    "\n",
    "# Train Support Vector Classifier\n",
    "svc_model = SVC(max_iter=15000)\n",
    "svc_model.fit(X_train, y_train)\n",
    "\n",
    "# Predict and evaluate\n",
    "y_pred_svc = svc_model.predict(X_test)\n",
    "svm_acc = round(accuracy_score(y_test, y_pred_svc), 2)\n",
    "svm_acc\n"
   ]
  },
  {
   "cell_type": "markdown",
   "metadata": {},
   "source": [
    "Execute the following code to answer the question"
   ]
  },
  {
   "cell_type": "code",
   "execution_count": 5,
   "metadata": {},
   "outputs": [
    {
     "name": "stdout",
     "output_type": "stream",
     "text": [
      "0.75\n"
     ]
    }
   ],
   "source": [
    "print(svm_acc)"
   ]
  },
  {
   "cell_type": "markdown",
   "metadata": {},
   "source": [
    "Return to the exam and paste the result into the answer text box for this question. Be sure that you are pasting it into the answer for **Question 36: What is the SVC model's score? **. "
   ]
  },
  {
   "cell_type": "markdown",
   "metadata": {},
   "source": [
    "[previous question](35.ipynb#q35) | [return to question list](00-questionlist.ipynb#questions) | [next question](37.ipynb#q37)"
   ]
  }
 ],
 "metadata": {
  "kernelspec": {
   "display_name": "Python 3 (ipykernel)",
   "language": "python",
   "name": "python3"
  },
  "language_info": {
   "codemirror_mode": {
    "name": "ipython",
    "version": 3
   },
   "file_extension": ".py",
   "mimetype": "text/x-python",
   "name": "python",
   "nbconvert_exporter": "python",
   "pygments_lexer": "ipython3",
   "version": "3.11.9"
  }
 },
 "nbformat": 4,
 "nbformat_minor": 4
}
