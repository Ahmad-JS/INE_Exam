{
 "cells": [
  {
   "cell_type": "markdown",
   "metadata": {},
   "source": [
    "# <a id='q31'>Question 31: What is the probability of randomly choosing two people (with replacement) who are both students? </a>\n"
   ]
  },
  {
   "cell_type": "markdown",
   "metadata": {},
   "source": [
    "## Setup\n",
    "\n",
    "Run this cell first to import all of packages necessary for the questions"
   ]
  },
  {
   "cell_type": "code",
   "execution_count": 2,
   "metadata": {},
   "outputs": [],
   "source": [
    "import numpy as np\n",
    "import pandas as pd\n",
    "import matplotlib.pyplot as plt\n",
    "from datetime import datetime, date \n",
    "\n",
    "from sklearn.neighbors import KNeighborsClassifier \n",
    "from sklearn.metrics import accuracy_score\n",
    "from sklearn.model_selection import train_test_split, RandomizedSearchCV\n",
    "from sklearn.linear_model import LogisticRegression \n",
    "from sklearn.svm import SVC\n",
    "from sklearn import tree"
   ]
  },
  {
   "cell_type": "markdown",
   "metadata": {},
   "source": [
    "## Exercise:Using the `onlinefoods` dataset, if we wanted to randomly choose two people <b>with</b> replacements, what is the probability of both people being students?? \n",
    "\n",
    "Round to the nearest 2 digits and store the probability in `prob_two_students`"
   ]
  },
  {
   "cell_type": "code",
   "execution_count": 3,
   "metadata": {},
   "outputs": [],
   "source": [
    "import pandas as pd\n",
    "\n",
    "foods = pd.read_csv('data/onlinefoods.csv')\n",
    "\n",
    "foods = foods.dropna(subset=['Occupation'])\n",
    "\n",
    "total = len(foods)\n",
    "\n",
    "num_students = len(foods[foods['Occupation'] == 'Student'])\n",
    "\n",
    "p_student = num_students / total\n",
    "\n",
    "prob_two_students = round(p_student * p_student, 2)\n"
   ]
  },
  {
   "cell_type": "markdown",
   "metadata": {},
   "source": [
    "Execute the following code to answer the question"
   ]
  },
  {
   "cell_type": "code",
   "execution_count": 4,
   "metadata": {},
   "outputs": [
    {
     "name": "stdout",
     "output_type": "stream",
     "text": [
      "0.28\n"
     ]
    }
   ],
   "source": [
    "print(prob_two_students)"
   ]
  },
  {
   "cell_type": "markdown",
   "metadata": {},
   "source": [
    "Return to the exam and paste the result into the answer text box for this question. Be sure that you are pasting it into the answer for **Question 31: What is the probability of randomly choosing two people (with replacement) who are both students? **. "
   ]
  },
  {
   "cell_type": "markdown",
   "metadata": {},
   "source": [
    "[previous question](30.ipynb#q30) | [return to question list](00-questionlist.ipynb#questions) | [next question](32.ipynb#q32)"
   ]
  }
 ],
 "metadata": {
  "kernelspec": {
   "display_name": "Python 3 (ipykernel)",
   "language": "python",
   "name": "python3"
  },
  "language_info": {
   "codemirror_mode": {
    "name": "ipython",
    "version": 3
   },
   "file_extension": ".py",
   "mimetype": "text/x-python",
   "name": "python",
   "nbconvert_exporter": "python",
   "pygments_lexer": "ipython3",
   "version": "3.11.9"
  }
 },
 "nbformat": 4,
 "nbformat_minor": 4
}
