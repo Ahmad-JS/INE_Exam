{
  "cells": [
    {
      "cell_type": "markdown",
      "metadata": {},
      "source": [
        "# <a id='q22'>Question 22: What is the result of printing the Sandwich instance?</a>\n"
      ]
    },
    {
      "cell_type": "markdown",
      "metadata": {},
      "source": [
        "## Setup\n",
        "\n",
        "Run this cell first to import all of packages necessary for the questions"
      ]
    },
    {
      "cell_type": "code",
      "execution_count": 2,
      "metadata": {},
      "outputs": [],
      "source": [
        "import numpy as np\n",
        "import pandas as pd\n",
        "import matplotlib.pyplot as plt\n",
        "from datetime import datetime, date \n",
        "\n",
        "from sklearn.neighbors import KNeighborsClassifier \n",
        "from sklearn.metrics import accuracy_score\n",
        "from sklearn.model_selection import train_test_split, RandomizedSearchCV\n",
        "from sklearn.linear_model import LogisticRegression \n",
        "from sklearn.svm import SVC\n",
        "from sklearn import tree"
      ]
    },
    {
      "cell_type": "markdown",
      "metadata": {},
      "source": [
        "## Exercise:",
        "\n",
        "Given a class `Sandwich` with attributes `protein`, `cheese`, and `bread`, make the `__str__` magic method produce a string with an output similar to: \n",
        "\n",
        "print(good_sandwich) -> \"ham and swiss on rye \""
      ]
    },
    {
      "cell_type": "code",
      "execution_count": null,
      "metadata": {},
      "outputs": [],
      "source": [
        "class Sandwich(object):\n",
        "    def __init__(self, protein, cheese, bread):\n",
        "        self.protein = protein\n",
        "        self.cheese = cheese\n",
        "        self.bread = bread\n",
        "\n",
        "    def __str__(self):\n",
        "        # Add your code here\n",
        "        pass\n"
      ]
    },
    {
      "cell_type": "markdown",
      "metadata": {},
      "source": [
        "Execute the following code to answer the question."
      ]
    },
    {
      "cell_type": "code",
      "execution_count": null,
      "metadata": {},
      "outputs": [],
      "source": [
        "sandwich1 = Sandwich('turkey', 'cheddar', 'sourdough')\n",
        "print(sandwich1)"
      ]
    },
    {
      "cell_type": "markdown",
      "metadata": {},
      "source": [
        "Return to the exam and paste the result into the answer text box for this question. Be sure that you are pasting it into the answer for **Question 22: What is the result of printing the Sandwich instance?**. "
      ]
    },
    {
      "cell_type": "markdown",
      "metadata": {},
      "source": [
        "[previous question](21.ipynb#q21) | [return to question list](00-questionlist.ipynb#questions) | [next question](23.ipynb#q23)"
      ]
    }
  ],
  "metadata": {
    "language_info": {
      "name": "python"
    }
  },
  "nbformat": 4,
  "nbformat_minor": 2
}