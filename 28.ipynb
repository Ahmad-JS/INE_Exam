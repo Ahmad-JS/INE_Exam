{
 "cells": [
  {
   "cell_type": "markdown",
   "metadata": {},
   "source": [
    "# <a id='q28'>Question 28: What is the result of print(round(names[\"Count\"].mean(),2))?</a>\n"
   ]
  },
  {
   "cell_type": "markdown",
   "metadata": {},
   "source": [
    "## Setup\n",
    "\n",
    "Run this cell first to import all of packages necessary for the questions"
   ]
  },
  {
   "cell_type": "code",
   "execution_count": 2,
   "metadata": {},
   "outputs": [],
   "source": [
    "import numpy as np\n",
    "import pandas as pd\n",
    "import matplotlib.pyplot as plt\n",
    "from datetime import datetime, date \n",
    "\n",
    "from sklearn.neighbors import KNeighborsClassifier \n",
    "from sklearn.metrics import accuracy_score\n",
    "from sklearn.model_selection import train_test_split, RandomizedSearchCV\n",
    "from sklearn.linear_model import LogisticRegression \n",
    "from sklearn.svm import SVC\n",
    "from sklearn import tree"
   ]
  },
  {
   "cell_type": "markdown",
   "metadata": {},
   "source": [
    "## Exercise:Clean the `Count` column of the `names` dataframe by:\n",
    "* Converting all values to positive (if a value is negative, take its absolute value)\n",
    "* Dropping all rows containing NaN values in the `Count`\n",
    "* Ensuring all entries are an integer\n"
   ]
  },
  {
   "cell_type": "code",
   "execution_count": 14,
   "metadata": {},
   "outputs": [],
   "source": [
    "import pandas as pd\n",
    "\n",
    "# Load the data\n",
    "names = pd.read_csv('data/baby_names.csv')\n",
    "\n",
    "# Convert 'Count' to numeric, coercing errors to NaN\n",
    "names[\"Count\"] = pd.to_numeric(names[\"Count\"], errors='coerce')\n",
    "\n",
    "# Drop rows with NaN values in 'Count'\n",
    "names = names.dropna(subset=[\"Count\"])\n",
    "\n",
    "# Take absolute value\n",
    "names[\"Count\"] = names[\"Count\"].abs()\n",
    "\n",
    "# Convert to integer\n",
    "names[\"Count\"] = names[\"Count\"].astype(int)\n"
   ]
  },
  {
   "cell_type": "markdown",
   "metadata": {},
   "source": [
    "Execute the following code to answer the question."
   ]
  },
  {
   "cell_type": "code",
   "execution_count": 15,
   "metadata": {},
   "outputs": [
    {
     "name": "stdout",
     "output_type": "stream",
     "text": [
      "13588.7\n"
     ]
    }
   ],
   "source": [
    "print(round(names[\"Count\"].mean(),2))"
   ]
  },
  {
   "cell_type": "markdown",
   "metadata": {},
   "source": [
    "Return to the exam and paste the result into the answer text box for this question. Be sure that you are pasting it into the answer for **Question 28: What is the result of print(round(names[\"Count\"].mean(),2))?**. "
   ]
  },
  {
   "cell_type": "markdown",
   "metadata": {},
   "source": [
    "[previous question](27.ipynb#q27) | [return to question list](00-questionlist.ipynb#questions) | [next question](29.ipynb#q29)"
   ]
  }
 ],
 "metadata": {
  "kernelspec": {
   "display_name": "Python 3 (ipykernel)",
   "language": "python",
   "name": "python3"
  },
  "language_info": {
   "codemirror_mode": {
    "name": "ipython",
    "version": 3
   },
   "file_extension": ".py",
   "mimetype": "text/x-python",
   "name": "python",
   "nbconvert_exporter": "python",
   "pygments_lexer": "ipython3",
   "version": "3.11.9"
  }
 },
 "nbformat": 4,
 "nbformat_minor": 4
}
