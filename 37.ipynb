{
 "cells": [
  {
   "cell_type": "markdown",
   "metadata": {},
   "source": [
    "# <a id='q37'>Question 37: What is the best value of K?</a>\n"
   ]
  },
  {
   "cell_type": "markdown",
   "metadata": {},
   "source": [
    "## Setup\n",
    "\n",
    "Run this cell first to import all of packages necessary for the questions"
   ]
  },
  {
   "cell_type": "code",
   "execution_count": 3,
   "metadata": {},
   "outputs": [],
   "source": [
    "import numpy as np\n",
    "import pandas as pd\n",
    "import matplotlib.pyplot as plt\n",
    "from datetime import datetime, date \n",
    "\n",
    "from sklearn.neighbors import KNeighborsClassifier \n",
    "from sklearn.metrics import accuracy_score\n",
    "from sklearn.model_selection import train_test_split, RandomizedSearchCV\n",
    "from sklearn.linear_model import LogisticRegression \n",
    "from sklearn.svm import SVC\n",
    "from sklearn import tree"
   ]
  },
  {
   "cell_type": "markdown",
   "metadata": {},
   "source": [
    "## Exercise:\n",
    "Determine the best `K` between 1 and 20 for a K-Nearest Neighbors classification model that predicts whether an individual earns more or less than $50,000, `y`, using the features `X` for the `incomes` dataframe.\n",
    "\n",
    "Use each K's `accuracy_score` (rounded to 3 decimals) to determine which one is optimal and append the accuracy scores to the list `accuracies`."
   ]
  },
  {
   "cell_type": "code",
   "execution_count": 4,
   "metadata": {},
   "outputs": [],
   "source": [
    "from sklearn.model_selection import train_test_split\n",
    "from sklearn.neighbors import KNeighborsClassifier\n",
    "from sklearn.metrics import accuracy_score\n",
    "incomes = pd.read_csv('data/incomes1.csv')\n",
    "\n",
    "X = incomes.drop(columns={\"income\"},axis=1) # features\n",
    "y = incomes[\"income\"].values.reshape(-1,1) # target\n",
    "X_train,X_test,y_train,y_test = train_test_split(X, y, test_size=0.1, random_state=1) # the train test split has already been done for you\n",
    "y_train = y_train.ravel() # flattens the y_train vector to avoid any other preprocessing work\n",
    "\n",
    "accuracies = []\n",
    "# Add your code here\n",
    "\n",
    "for k in range(1, 21):\n",
    "    knn = KNeighborsClassifier(n_neighbors=k)\n",
    "    knn.fit(X_train, y_train)\n",
    "    y_pred_knn = knn.predict(X_test)\n",
    "    acc = round(accuracy_score(y_test, y_pred_knn), 3)\n",
    "    accuracies.append(acc)\n",
    "\n"
   ]
  },
  {
   "cell_type": "markdown",
   "metadata": {},
   "source": [
    "Execute the following code to answer the question"
   ]
  },
  {
   "cell_type": "code",
   "execution_count": 5,
   "metadata": {},
   "outputs": [
    {
     "name": "stdout",
     "output_type": "stream",
     "text": [
      "The best value of K is:  20\n"
     ]
    }
   ],
   "source": [
    "index_max = np.argmax(accuracies) + 1\n",
    "print('The best value of K is: ', index_max)"
   ]
  },
  {
   "cell_type": "markdown",
   "metadata": {},
   "source": [
    "Return to the exam and paste the result into the answer text box for this question. Be sure that you are pasting it into the answer for **Question 37: What is the best value of K?**. "
   ]
  },
  {
   "cell_type": "markdown",
   "metadata": {},
   "source": [
    "[previous question](36.ipynb#q36) | [return to question list](00-questionlist.ipynb#questions) | [next question](38.ipynb#q38)"
   ]
  }
 ],
 "metadata": {
  "kernelspec": {
   "display_name": "Python 3 (ipykernel)",
   "language": "python",
   "name": "python3"
  },
  "language_info": {
   "codemirror_mode": {
    "name": "ipython",
    "version": 3
   },
   "file_extension": ".py",
   "mimetype": "text/x-python",
   "name": "python",
   "nbconvert_exporter": "python",
   "pygments_lexer": "ipython3",
   "version": "3.11.9"
  }
 },
 "nbformat": 4,
 "nbformat_minor": 4
}
